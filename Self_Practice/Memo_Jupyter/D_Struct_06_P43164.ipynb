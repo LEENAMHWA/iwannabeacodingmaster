{
 "cells": [
  {
   "cell_type": "code",
   "execution_count": 12,
   "id": "e938646a",
   "metadata": {},
   "outputs": [
    {
     "data": {
      "text/plain": [
       "['ICN', 'ATL', 'ICN', 'SFO', 'ATL', 'SFO']"
      ]
     },
     "execution_count": 12,
     "metadata": {},
     "output_type": "execute_result"
    }
   ],
   "source": [
    "from collections import deque\n",
    "\n",
    "def bfs(tickets):\n",
    "    visited = [False for x in tickets]\n",
    "    queue = deque()\n",
    "    trav_path = []\n",
    "    \n",
    "    # INIT\n",
    "    for item_idx in range(len(tickets)):\n",
    "        if tickets[item_idx][0] == \"ICN\":\n",
    "            remained = []\n",
    "            remained.extend(tickets)\n",
    "            remained.pop(remained.index(tickets[item_idx]))\n",
    "            queue.append([tickets[item_idx], [tickets[item_idx]], remained])\n",
    "            \n",
    "    idx = 0 \n",
    "    while queue:\n",
    "        idx += 1\n",
    "        tmp_path, visited, remained = queue.popleft()\n",
    "        if len(tickets) == len(visited):\n",
    "            trav_path.append(visited)\n",
    "            \n",
    "        for path_idx in range(len(tickets)):\n",
    "            visit_tmp = []\n",
    "            visit_tmp.extend(visited)\n",
    "            \n",
    "            remained_tmp = []\n",
    "            remained_tmp.extend(remained)\n",
    "            \n",
    "            if tickets[path_idx][0] == visited[-1][1]:\n",
    "                if tickets[path_idx] not in remained_tmp:\n",
    "                    continue\n",
    "                else:\n",
    "                    visit_tmp.append(tickets[path_idx])\n",
    "                    remained_tmp.pop(remained_tmp.index(tickets[path_idx]))\n",
    "                    queue.append([tickets[path_idx],visit_tmp, remained_tmp])\n",
    "    return trav_path\n",
    "    \n",
    "    \n",
    "                \n",
    "def solution(tickets):\n",
    "    answer = []\n",
    "\n",
    "    ans_tmp = bfs(tickets)\n",
    "    ans_tmp.sort()\n",
    "    \n",
    "    for data in ans_tmp[0]:\n",
    "        answer.append(data[0])\n",
    "        \n",
    "    answer.append(ans_tmp[0][-1][1])\n",
    "    \n",
    "    return answer\n",
    "\n",
    "solution([[\"ICN\", \"SFO\"], [\"ICN\", \"ATL\"], [\"SFO\", \"ATL\"], [\"ATL\", \"ICN\"], [\"ATL\",\"SFO\"]])"
   ]
  },
  {
   "cell_type": "code",
   "execution_count": 49,
   "id": "2e10aa72",
   "metadata": {},
   "outputs": [
    {
     "name": "stdout",
     "output_type": "stream",
     "text": [
      "[['BO', 'AO', 'DO'], ['BO', 'CO', 'DO']]\n"
     ]
    }
   ],
   "source": [
    "li = [['BO','CO','DO'], ['BO','AO','DO']]\n",
    "li.sort()\n",
    "print(li)"
   ]
  },
  {
   "cell_type": "code",
   "execution_count": null,
   "id": "0f2381f1",
   "metadata": {},
   "outputs": [],
   "source": []
  }
 ],
 "metadata": {
  "kernelspec": {
   "display_name": "Python 3",
   "language": "python",
   "name": "python3"
  },
  "language_info": {
   "codemirror_mode": {
    "name": "ipython",
    "version": 3
   },
   "file_extension": ".py",
   "mimetype": "text/x-python",
   "name": "python",
   "nbconvert_exporter": "python",
   "pygments_lexer": "ipython3",
   "version": "3.8.8"
  }
 },
 "nbformat": 4,
 "nbformat_minor": 5
}
