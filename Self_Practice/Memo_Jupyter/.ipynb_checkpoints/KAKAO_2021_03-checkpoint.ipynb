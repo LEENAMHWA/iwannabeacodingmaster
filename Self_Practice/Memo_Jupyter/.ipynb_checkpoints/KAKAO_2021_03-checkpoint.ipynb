{
 "cells": [
  {
   "cell_type": "code",
   "execution_count": 137,
   "id": "ac58cbf9",
   "metadata": {},
   "outputs": [
    {
     "data": {
      "text/plain": [
       "[2, 3, 2, 3, 0, 0]"
      ]
     },
     "execution_count": 137,
     "metadata": {},
     "output_type": "execute_result"
    }
   ],
   "source": [
    "def solution(info, query):\n",
    "    answer = []\n",
    "    \n",
    "    query = list(map(lambda x: x.replace(' and ',' ').split(),query))\n",
    "    info = list(map(lambda x: x.split(' '), info))\n",
    "    \n",
    "    # 하나씩 불러와서 비교, 없으면 바로 넘기기\n",
    "    for q_idx in range(len(query)):\n",
    "        match = 0\n",
    "        for i_idx in range(len(info)):\n",
    "            \n",
    "            # Score Filtering\n",
    "            if int(info[i_idx][-1]) < int(query[q_idx][-1]):\n",
    "                continue\n",
    "            \n",
    "            for item_idx in range(len(info[i_idx]) - 1):\n",
    "                if (query[q_idx][item_idx] == '-') or (query[q_idx][item_idx] == info[i_idx][item_idx]):\n",
    "                    # Pass\n",
    "                    if item_idx == len(info[i_idx]) - 2:\n",
    "                        match += 1\n",
    "                    continue\n",
    "                else:\n",
    "                    # Mismatch\n",
    "                    break                    \n",
    "                        \n",
    "        answer.append(match)\n",
    "    \n",
    "    return answer\n",
    "\n",
    "solution([\"java backend junior pizza 150\",\"python frontend senior chicken 210\",\"python frontend senior chicken 150\",\"cpp backend senior pizza 260\",\"java backend junior chicken 80\",\"python backend senior chicken 50\"],\\\n",
    "         [\"java and backend and junior and pizza 100\",\"python and frontend and senior and chicken 200\",\"cpp and - and senior and pizza 250\",\"- and backend and senior and - 150\",\"- and - and - and chicken 100\",\"- and - and - and - 150\"])\n",
    "\n",
    "#answer = [1,1,1,1,2,4]"
   ]
  },
  {
   "cell_type": "code",
   "execution_count": null,
   "id": "4f42dde5",
   "metadata": {},
   "outputs": [],
   "source": [
    "#Query<->Info 위치 바꿔보기\n",
    "def solution(info, query):\n",
    "    answer = []\n",
    "    \n",
    "    query = list(map(lambda x: x.replace(' and ',' ').split(),query))\n",
    "    info = list(map(lambda x: x.split(' '), info))\n",
    "    \n",
    "    # 하나씩 불러와서 비교, 없으면 바로 넘기기\n",
    "    for q_idx in range(len(query)):\n",
    "        match = 0\n",
    "        for i_idx in range(len(info)):\n",
    "            \n",
    "            # Score Filtering\n",
    "            if int(info[i_idx][-1]) < int(query[q_idx][-1]):\n",
    "                continue\n",
    "            \n",
    "            for item_idx in range(len(info[i_idx]) - 1):\n",
    "                if (query[q_idx][item_idx] == '-') or (query[q_idx][item_idx] == info[i_idx][item_idx]):\n",
    "                    # Pass\n",
    "                    if item_idx == len(info[i_idx]) - 2:\n",
    "                        match += 1\n",
    "                    continue\n",
    "                else:\n",
    "                    # Mismatch\n",
    "                    break                    \n",
    "                        \n",
    "        answer.append(match)\n",
    "    \n",
    "    return answer\n",
    "\n",
    "solution([\"java backend junior pizza 150\",\"python frontend senior chicken 210\",\"python frontend senior chicken 150\",\"cpp backend senior pizza 260\",\"java backend junior chicken 80\",\"python backend senior chicken 50\"],\\\n",
    "         [\"java and backend and junior and pizza 100\",\"python and frontend and senior and chicken 200\",\"cpp and - and senior and pizza 250\",\"- and backend and senior and - 150\",\"- and - and - and chicken 100\",\"- and - and - and - 150\"])\n",
    "\n",
    "#answer = [1,1,1,1,2,4]"
   ]
  },
  {
   "cell_type": "code",
   "execution_count": 84,
   "id": "b099e0a1",
   "metadata": {},
   "outputs": [
    {
     "name": "stdout",
     "output_type": "stream",
     "text": [
      "['hell', 'o', 'every', 'one', '', 'my', '', 'name']\n"
     ]
    }
   ],
   "source": [
    "import re\n",
    "str_1 = \"hell o every one ;my ;name\"\n",
    "str_1=re.split(' |;',str_1)\n",
    "print(str_1)\n"
   ]
  },
  {
   "cell_type": "code",
   "execution_count": 125,
   "id": "1d8988bd",
   "metadata": {},
   "outputs": [
    {
     "data": {
      "text/plain": [
       "False"
      ]
     },
     "execution_count": 125,
     "metadata": {},
     "output_type": "execute_result"
    }
   ],
   "source": [
    "10 < 9"
   ]
  },
  {
   "cell_type": "code",
   "execution_count": null,
   "id": "3256fef9",
   "metadata": {},
   "outputs": [],
   "source": []
  }
 ],
 "metadata": {
  "kernelspec": {
   "display_name": "Python 3",
   "language": "python",
   "name": "python3"
  },
  "language_info": {
   "codemirror_mode": {
    "name": "ipython",
    "version": 3
   },
   "file_extension": ".py",
   "mimetype": "text/x-python",
   "name": "python",
   "nbconvert_exporter": "python",
   "pygments_lexer": "ipython3",
   "version": "3.8.8"
  }
 },
 "nbformat": 4,
 "nbformat_minor": 5
}
