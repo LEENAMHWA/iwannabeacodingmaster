{
 "cells": [
  {
   "cell_type": "code",
   "execution_count": null,
   "id": "82e953b2",
   "metadata": {},
   "outputs": [],
   "source": [
    "import sys\n",
    "from collections import deque\n",
    "    \n",
    "def bfs(me, you):\n",
    "    visited = [0] * 100001\n",
    "    \n",
    "    queue = deque()\n",
    "    queue.append([me, 0])\n",
    "    \n",
    "    while queue:\n",
    "        pos, cnt = queue.popleft()\n",
    "        print(pos)\n",
    "        \n",
    "        if visited[pos] == 1:\n",
    "            continue\n",
    "        else:\n",
    "            visited[pos] = 1\n",
    "        \n",
    "        if pos > 100000 or pos < 0:\n",
    "            continue\n",
    "        \n",
    "        if pos == you:\n",
    "            print(cnt)\n",
    "            break\n",
    "        \n",
    "        queue.append([2*pos, cnt+1])\n",
    "        queue.append([pos-1, cnt+1])\n",
    "        queue.append([pos+1, cnt+1])    \n",
    "\n",
    "# For BJ\n",
    "# pos_i, pos_u = list(map(int,sys.stdin.readline().split()))\n",
    "\n",
    "# For Jupyter\n",
    "pos_i, pos_u = list(map(int,input().split()))\n",
    "\n",
    "bfs(pos_i, pos_u)"
   ]
  },
  {
   "cell_type": "code",
   "execution_count": null,
   "id": "205fe391",
   "metadata": {},
   "outputs": [],
   "source": []
  }
 ],
 "metadata": {
  "kernelspec": {
   "display_name": "Python 3",
   "language": "python",
   "name": "python3"
  },
  "language_info": {
   "codemirror_mode": {
    "name": "ipython",
    "version": 3
   },
   "file_extension": ".py",
   "mimetype": "text/x-python",
   "name": "python",
   "nbconvert_exporter": "python",
   "pygments_lexer": "ipython3",
   "version": "3.8.8"
  }
 },
 "nbformat": 4,
 "nbformat_minor": 5
}
