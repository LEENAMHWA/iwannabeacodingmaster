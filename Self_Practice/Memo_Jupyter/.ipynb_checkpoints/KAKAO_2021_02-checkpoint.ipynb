{
 "cells": [
  {
   "cell_type": "code",
   "execution_count": 75,
   "id": "baec5393",
   "metadata": {},
   "outputs": [
    {
     "data": {
      "text/plain": [
       "['ACD', 'AD', 'ADE', 'CD', 'XYZ']"
      ]
     },
     "execution_count": 75,
     "metadata": {},
     "output_type": "execute_result"
    }
   ],
   "source": [
    "def solution(orders, course):\n",
    "    from itertools import combinations as comb\n",
    "    answer = []\n",
    "    \n",
    "    for c_size in course:\n",
    "        order_dict = {}\n",
    "        order_comb = []\n",
    "        for order in orders:\n",
    "            order_comb.extend(list(comb(sorted(order), c_size)))\n",
    "            \n",
    "        for order_item in order_comb:\n",
    "            order_str = ''.join(order_item)\n",
    "            \n",
    "            if order_str in order_dict:\n",
    "                order_dict[order_str] += 1\n",
    "            else:\n",
    "                order_dict[order_str] = 1\n",
    "        \n",
    "        for order_d_item in order_dict:\n",
    "            if order_dict[order_d_item] == max(order_dict.values()) and order_dict[order_d_item] > 1:\n",
    "                answer.append(order_d_item)\n",
    "            \n",
    "    return sorted(answer)\n",
    "\n",
    "solution([\"ABCDE\", \"AB\", \"CD\", \"ADE\", \"XYZ\", \"XYZ\", \"ACD\"], [2, 3, 5])\n",
    "# Answer - [\"ACD\", \"AD\", \"ADE\", \"CD\", \"XYZ\"]"
   ]
  },
  {
   "cell_type": "code",
   "execution_count": null,
   "id": "661a889a",
   "metadata": {},
   "outputs": [],
   "source": []
  }
 ],
 "metadata": {
  "kernelspec": {
   "display_name": "Python 3",
   "language": "python",
   "name": "python3"
  },
  "language_info": {
   "codemirror_mode": {
    "name": "ipython",
    "version": 3
   },
   "file_extension": ".py",
   "mimetype": "text/x-python",
   "name": "python",
   "nbconvert_exporter": "python",
   "pygments_lexer": "ipython3",
   "version": "3.8.8"
  }
 },
 "nbformat": 4,
 "nbformat_minor": 5
}
