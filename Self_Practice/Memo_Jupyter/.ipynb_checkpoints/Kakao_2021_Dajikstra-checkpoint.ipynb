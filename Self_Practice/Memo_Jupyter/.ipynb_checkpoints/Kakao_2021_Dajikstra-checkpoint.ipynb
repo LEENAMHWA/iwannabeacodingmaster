{
 "cells": [
  {
   "cell_type": "code",
   "execution_count": 1,
   "id": "9e83b9b6",
   "metadata": {},
   "outputs": [],
   "source": [
    "import heapq"
   ]
  },
  {
   "cell_type": "code",
   "execution_count": 21,
   "id": "c4218f14",
   "metadata": {},
   "outputs": [
    {
     "name": "stdout",
     "output_type": "stream",
     "text": [
      "[2, 5, 10, 30, 20]\n"
     ]
    }
   ],
   "source": [
    "heap = []\n",
    "\n",
    "# 기본 -> 최소 힙: 따로 정렬을 할 필요가 없음, 알아서 찾아감 ..?\n",
    "heapq.heappush(heap, 5)\n",
    "heapq.heappush(heap, 30)\n",
    "heapq.heappush(heap, 10)\n",
    "heapq.heappush(heap, 20)\n",
    "heapq.heappush(heap, 2)\n",
    "print(heap)"
   ]
  },
  {
   "cell_type": "code",
   "execution_count": 38,
   "id": "c7402b22",
   "metadata": {},
   "outputs": [],
   "source": [
    "def solution(n, s, a, b, fares):\n",
    "    inf = 1000000000\n",
    "    answer = inf\n",
    "    \n",
    "    total = []\n",
    "    for _ in range(n):\n",
    "        total.append([inf] * n)\n",
    "        \n",
    "    for info in fares:\n",
    "        total[info[0]-1][info[1]-1] = total[info[1]-1][info[0]-1] = info[2] \n",
    "    \n",
    "    # 자기 자신 체크 안하면 왜 문제됨..?\n",
    "    for i in range(n):\n",
    "        total[i][i] = 0\n",
    "        \n",
    "    # 최단거리 구하기\n",
    "    for m in range(n):\n",
    "        for r in range(n):\n",
    "            for c in range(r + 1, n):\n",
    "                    tmp = min(total[r][c], (total[r][m] + total[m][c]))\n",
    "                    if r == 1:\n",
    "                        print(tmp)\n",
    "                    total[r][c] = total[c][r] = tmp\n",
    "    \n",
    "    print(total)\n",
    "    \n",
    "    for m in range(n):\n",
    "        answer = min(answer, total[s-1][m] + total[m][a-1] + total[m][b-1])\n",
    "                    \n",
    "    return answer\n"
   ]
  },
  {
   "cell_type": "code",
   "execution_count": 39,
   "id": "8931c831",
   "metadata": {},
   "outputs": [
    {
     "name": "stdout",
     "output_type": "stream",
     "text": [
      "35\n",
      "35\n",
      "35\n",
      "35\n",
      "35\n",
      "35\n",
      "[[0, 63, 41, 10, 24, 25], [63, 0, 22, 66, 46, 48], [41, 22, 0, 51, 24, 26], [10, 66, 51, 0, 34, 35], [24, 46, 24, 34, 0, 2], [25, 48, 26, 35, 2, 0]]\n"
     ]
    },
    {
     "data": {
      "text/plain": [
       "82"
      ]
     },
     "execution_count": 39,
     "metadata": {},
     "output_type": "execute_result"
    }
   ],
   "source": [
    "solution(6,4,6,2,[[4, 1, 10], [3, 5, 24], [5, 6, 2], [3, 1, 41], [5, 1, 24], [4, 6, 50], [2, 4, 66], [2, 3, 22], [1, 6, 25]])"
   ]
  },
  {
   "cell_type": "code",
   "execution_count": 35,
   "id": "a04dd934",
   "metadata": {},
   "outputs": [
    {
     "data": {
      "text/plain": [
       "1000000000000000000000000000030"
      ]
     },
     "execution_count": 35,
     "metadata": {},
     "output_type": "execute_result"
    }
   ],
   "source": [
    "1000000000000000000000000000000 + 30"
   ]
  },
  {
   "cell_type": "code",
   "execution_count": null,
   "id": "04b8bbc0",
   "metadata": {},
   "outputs": [],
   "source": []
  }
 ],
 "metadata": {
  "kernelspec": {
   "display_name": "Python 3",
   "language": "python",
   "name": "python3"
  },
  "language_info": {
   "codemirror_mode": {
    "name": "ipython",
    "version": 3
   },
   "file_extension": ".py",
   "mimetype": "text/x-python",
   "name": "python",
   "nbconvert_exporter": "python",
   "pygments_lexer": "ipython3",
   "version": "3.8.8"
  }
 },
 "nbformat": 4,
 "nbformat_minor": 5
}
