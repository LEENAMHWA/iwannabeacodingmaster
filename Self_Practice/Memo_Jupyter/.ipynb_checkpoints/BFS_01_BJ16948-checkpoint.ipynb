{
 "cells": [
  {
   "cell_type": "markdown",
   "id": "b84a0fbb",
   "metadata": {},
   "source": [
    "#### 문제\n",
    "\n",
    "게임을 좋아하는 큐브러버는 체스에서 사용할 새로운 말 \"데스 나이트\"를 만들었다. 데스 나이트가 있는 곳이 (r, c)라면, (r-2, c-1), (r-2, c+1), (r, c-2), (r, c+2), (r+2, c-1), (r+2, c+1)로 이동할 수 있다.\n",
    "\n",
    "크기가 N×N인 체스판과 두 칸 (r1, c1), (r2, c2)가 주어진다. 데스 나이트가 (r1, c1)에서 (r2, c2)로 이동하는 최소 이동 횟수를 구해보자. 체스판의 행과 열은 0번부터 시작한다.\n",
    "\n",
    "데스 나이트는 체스판 밖으로 벗어날 수 없다.\n",
    "\n",
    "<hr>\n",
    "\n",
    "#### 입력\n",
    "첫째 줄에 체스판의 크기 N(5 ≤ N ≤ 200)이 주어진다. 둘째 줄에 r1, c1, r2, c2가 주어진다.\n",
    "\n",
    "#### 출력\n",
    "\n",
    "첫째 줄에 데스 나이트가 (r1, c1)에서 (r2, c2)로 이동하는 최소 이동 횟수를 출력한다. 이동할 수 없는 경우에는 -1을 출력한다."
   ]
  },
  {
   "cell_type": "code",
   "execution_count": 22,
   "id": "9baca2d2",
   "metadata": {},
   "outputs": [
    {
     "name": "stdout",
     "output_type": "stream",
     "text": [
      "7\n",
      "6 6 0 1\n",
      "6\n"
     ]
    }
   ],
   "source": [
    "import sys\n",
    "from collections import deque\n",
    "# N = int(sys.stdin.readline().split()[0])\n",
    "# pos = list(map(int,sys.stdin.readline().split()))\n",
    "N = int(input())\n",
    "pos = list(map(int,input().split()))\n",
    "pan = deque()\n",
    "pan.append([pos[0],pos[1],0])\n",
    "tar_r, tar_c = pos[2], pos[3]\n",
    "\n",
    "visited = []\n",
    "for n_idx in range(N):\n",
    "    visited.append([False] * N)\n",
    "    \n",
    "ans_arr = []\n",
    "def bfs():\n",
    "    r, c, cnt = pan.popleft()\n",
    "    \n",
    "    if r >= N or r < 0 or c < 0 or c >= N:\n",
    "        return -1\n",
    "\n",
    "    if visited[r][c] == True:\n",
    "        return -1\n",
    "    \n",
    "    if r == tar_r and c == tar_c:\n",
    "        return cnt\n",
    "    \n",
    "    visited[r][c] = True\n",
    "    pan.append([r+2,c+1,cnt+1])\n",
    "    pan.append([r+2,c-1,cnt+1])\n",
    "    pan.append([r-2,c+1,cnt+1])\n",
    "    pan.append([r-2,c-1,cnt+1])\n",
    "    pan.append([r,c+2,cnt+1])\n",
    "    pan.append([r,c+2,cnt+1])\n",
    "    \n",
    "    return -1\n",
    "\n",
    "answer = 0\n",
    "while len(pan) != 0:\n",
    "    answer = bfs()\n",
    "    if answer != -1:\n",
    "        break\n",
    "        \n",
    "print(answer)"
   ]
  },
  {
   "cell_type": "code",
   "execution_count": null,
   "id": "fe54aa98",
   "metadata": {},
   "outputs": [],
   "source": []
  }
 ],
 "metadata": {
  "kernelspec": {
   "display_name": "Python 3",
   "language": "python",
   "name": "python3"
  },
  "language_info": {
   "codemirror_mode": {
    "name": "ipython",
    "version": 3
   },
   "file_extension": ".py",
   "mimetype": "text/x-python",
   "name": "python",
   "nbconvert_exporter": "python",
   "pygments_lexer": "ipython3",
   "version": "3.8.8"
  }
 },
 "nbformat": 4,
 "nbformat_minor": 5
}
