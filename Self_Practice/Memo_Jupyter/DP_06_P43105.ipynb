{
 "cells": [
  {
   "cell_type": "code",
   "execution_count": 51,
   "id": "b2d8c8eb",
   "metadata": {},
   "outputs": [
    {
     "data": {
      "text/plain": [
       "30"
      ]
     },
     "execution_count": 51,
     "metadata": {},
     "output_type": "execute_result"
    }
   ],
   "source": [
    "def solution(triangle):\n",
    "    answer = 0\n",
    "    \n",
    "    d = [triangle[0]]\n",
    "    \n",
    "    for idx in range(1, len(triangle)):\n",
    "        d.append([0]*len(triangle[idx]))\n",
    "        for sub_idx in range(len(d[idx]) - 1):\n",
    "            d[idx][sub_idx] = max(d[idx-1][sub_idx] + triangle[idx][sub_idx], d[idx][sub_idx])\n",
    "            d[idx][sub_idx+1] = d[idx-1][sub_idx] + triangle[idx][sub_idx + 1]\n",
    "        \n",
    "    return max(d[-1])\n",
    "\n",
    "solution([[7], [3, 8], [8, 1, 0], [2, 7, 4, 4], [4, 5, 2, 6, 5]])"
   ]
  },
  {
   "cell_type": "code",
   "execution_count": null,
   "id": "6cf37639",
   "metadata": {},
   "outputs": [],
   "source": []
  }
 ],
 "metadata": {
  "kernelspec": {
   "display_name": "Python 3",
   "language": "python",
   "name": "python3"
  },
  "language_info": {
   "codemirror_mode": {
    "name": "ipython",
    "version": 3
   },
   "file_extension": ".py",
   "mimetype": "text/x-python",
   "name": "python",
   "nbconvert_exporter": "python",
   "pygments_lexer": "ipython3",
   "version": "3.8.8"
  }
 },
 "nbformat": 4,
 "nbformat_minor": 5
}
