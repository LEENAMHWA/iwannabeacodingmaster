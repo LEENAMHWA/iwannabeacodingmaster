{
 "cells": [
  {
   "cell_type": "code",
   "execution_count": 5,
   "id": "00039af5",
   "metadata": {},
   "outputs": [
    {
     "data": {
      "text/plain": [
       "3"
      ]
     },
     "execution_count": 5,
     "metadata": {},
     "output_type": "execute_result"
    }
   ],
   "source": [
    "def solution(n, computers):\n",
    "    answer = 0\n",
    "    \n",
    "    def bfs(x, y):\n",
    "        if x >= n or y >= n or x < 0 or y < 0:\n",
    "            return False\n",
    "        if computers[x][y] == 1:\n",
    "            computers[x][y] = 0\n",
    "            bfs(x+1,y)\n",
    "            bfs(x-1,y)\n",
    "            bfs(x,y+1)\n",
    "            bfs(x,y-1)\n",
    "            return True        \n",
    "        return False\n",
    "    \n",
    "    for r_idx in range(n):\n",
    "        for c_idx in range(n):\n",
    "            if bfs(r_idx,c_idx) == True:\n",
    "                answer += 1\n",
    "                \n",
    "    return answer\n",
    "\n",
    "solution(3,[[1, 0, 0], [0, 1, 0], [0, 0, 1]])"
   ]
  },
  {
   "cell_type": "code",
   "execution_count": 13,
   "id": "589d73ca",
   "metadata": {},
   "outputs": [],
   "source": [
    "from collections import deque\n",
    "    \n",
    "def solution(n, computers):\n",
    "    answer = 0\n",
    "    vist = [False for idx in range(n)]\n",
    "    \n",
    "    for c_idx in range(n):\n",
    "        # Visit array가 False = 아직 인접노드로 방문 되지 않은것 (이어져 있지 않음)\n",
    "        if vist[c_idx] == False:\n",
    "            bfs(vist, computers, c_idx, n)\n",
    "            answer += 1\n",
    "\n",
    "    return answer\n",
    "\n",
    "\n",
    "def bfs(vist, computers, n_idx, n):\n",
    "    vist[n_idx] = True\n",
    "    queue = deque()\n",
    "    queue.append(n_idx)\n",
    "    while queue:\n",
    "        n_idx = queue.popleft()\n",
    "        vist[n_idx] = True\n",
    "        # 방문 하지 않은 인접 노드 큐에 넣기 \n",
    "        for conn_idx in range(n):\n",
    "            if (conn_idx != n_idx) and computers[n_idx][conn_idx] == 1:\n",
    "                if vist[conn_idx] == False:\n",
    "                    queue.append(conn_idx)\n",
    "\n"
   ]
  },
  {
   "cell_type": "code",
   "execution_count": null,
   "id": "98042234",
   "metadata": {},
   "outputs": [],
   "source": []
  }
 ],
 "metadata": {
  "kernelspec": {
   "display_name": "Python 3",
   "language": "python",
   "name": "python3"
  },
  "language_info": {
   "codemirror_mode": {
    "name": "ipython",
    "version": 3
   },
   "file_extension": ".py",
   "mimetype": "text/x-python",
   "name": "python",
   "nbconvert_exporter": "python",
   "pygments_lexer": "ipython3",
   "version": "3.8.8"
  }
 },
 "nbformat": 4,
 "nbformat_minor": 5
}
