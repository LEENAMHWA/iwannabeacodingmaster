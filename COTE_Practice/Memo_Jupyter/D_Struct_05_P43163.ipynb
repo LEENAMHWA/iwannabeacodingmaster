{
 "cells": [
  {
   "cell_type": "code",
   "execution_count": 10,
   "id": "e938646a",
   "metadata": {},
   "outputs": [
    {
     "data": {
      "text/plain": [
       "0"
      ]
     },
     "execution_count": 10,
     "metadata": {},
     "output_type": "execute_result"
    }
   ],
   "source": [
    "from collections import deque\n",
    "\n",
    "def how_diff(word_1, word_2):\n",
    "    n_diff = 0\n",
    "    \n",
    "    for x, y in zip(word_1, word_2):\n",
    "        if x != y:\n",
    "            n_diff += 1\n",
    "    \n",
    "    return n_diff\n",
    "\n",
    "def bfs(begin, target, words):\n",
    "    queue = deque()\n",
    "    idx = 0\n",
    "    queue.append([begin, idx, []])\n",
    "    while queue:\n",
    "        # queue 제일 앞의 단어와 1글자 차이면 모두 append\n",
    "        w_tmp, idx, visited = queue.popleft()\n",
    "        \n",
    "        if w_tmp == target:\n",
    "            return idx\n",
    "        idx += 1\n",
    "        for word_idx in range(len(words)):\n",
    "            # 차이가 1인것 모두 append\n",
    "            if (how_diff(words[word_idx], w_tmp) == 1) and (words[word_idx] not in visited):\n",
    "                tmp_visited = visited\n",
    "                tmp_visited.append(words[word_idx])\n",
    "                queue.append([words[word_idx], idx, tmp_visited])\n",
    "                \n",
    "def solution(begin, target, words):\n",
    "    if target not in words:\n",
    "        return 0\n",
    "    answer = 0\n",
    "\n",
    "    answer = bfs(begin, target, words)\n",
    "\n",
    "    return answer\n",
    "\n",
    "solution(\"hit\",\"cog\",[\"hot\", \"dot\", \"dog\", \"lot\", \"log\"])"
   ]
  },
  {
   "cell_type": "code",
   "execution_count": null,
   "id": "2e10aa72",
   "metadata": {},
   "outputs": [],
   "source": []
  }
 ],
 "metadata": {
  "kernelspec": {
   "display_name": "Python 3",
   "language": "python",
   "name": "python3"
  },
  "language_info": {
   "codemirror_mode": {
    "name": "ipython",
    "version": 3
   },
   "file_extension": ".py",
   "mimetype": "text/x-python",
   "name": "python",
   "nbconvert_exporter": "python",
   "pygments_lexer": "ipython3",
   "version": "3.8.8"
  }
 },
 "nbformat": 4,
 "nbformat_minor": 5
}
