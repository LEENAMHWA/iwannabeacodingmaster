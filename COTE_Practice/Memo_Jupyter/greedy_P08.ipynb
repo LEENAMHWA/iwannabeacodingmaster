{
 "cells": [
  {
   "cell_type": "code",
   "execution_count": 47,
   "metadata": {
    "scrolled": true
   },
   "outputs": [
    {
     "name": "stdout",
     "output_type": "stream",
     "text": [
      "3\n",
      "3\n"
     ]
    }
   ],
   "source": [
    "def solution(people, limit):\n",
    "    answer = 0\n",
    "    people.sort()\n",
    "    # Sort 후에 양 끝부터 계산하며 갯수 파악\n",
    "    l_idx = 0\n",
    "    r_idx = len(people) - 1\n",
    "    while l_idx < r_idx:\n",
    "        if (people[l_idx] + people[r_idx]) <= limit:\n",
    "            l_idx += 1\n",
    "            r_idx -= 1\n",
    "            answer += 1\n",
    "        else:\n",
    "            r_idx -= 1\n",
    "            answer += 1\n",
    "    if l_idx == r_idx:\n",
    "        answer += 1\n",
    "    \n",
    "    return answer\n"
   ]
  },
  {
   "cell_type": "code",
   "execution_count": 45,
   "metadata": {},
   "outputs": [
    {
     "name": "stdout",
     "output_type": "stream",
     "text": [
      "3\n",
      "3\n"
     ]
    }
   ],
   "source": [
    "#효율 X\n",
    "def solution(people, limit):\n",
    "    answer = 0\n",
    "    people.sort()\n",
    "    # Sort 후에 양 끝부터 계산하며 갯수 파악\n",
    "    while people:\n",
    "        l_idx = 0\n",
    "        r_idx = len(people) - 1\n",
    "        \n",
    "        while True:\n",
    "            # 가장 마지막\n",
    "            if l_idx == r_idx:\n",
    "                answer += 1\n",
    "                people.pop()\n",
    "                break\n",
    "\n",
    "            # 경우에 맞음\n",
    "            elif (people[l_idx] + people[r_idx]) <= limit:\n",
    "                people.pop(r_idx)\n",
    "                people.pop()\n",
    "                answer += 1\n",
    "                break\n",
    "\n",
    "            # 인덱스 감소\n",
    "            else:\n",
    "                r_idx -= 1\n",
    "            \n",
    "        \n",
    "    return answer\n",
    "print(solution([70, 50, 80, 50],100))\n",
    "print(solution([70, 80, 50],100))"
   ]
  },
  {
   "cell_type": "code",
   "execution_count": null,
   "metadata": {},
   "outputs": [],
   "source": []
  }
 ],
 "metadata": {
  "kernelspec": {
   "display_name": "Python 3",
   "language": "python",
   "name": "python3"
  },
  "language_info": {
   "codemirror_mode": {
    "name": "ipython",
    "version": 3
   },
   "file_extension": ".py",
   "mimetype": "text/x-python",
   "name": "python",
   "nbconvert_exporter": "python",
   "pygments_lexer": "ipython3",
   "version": "3.7.9"
  }
 },
 "nbformat": 4,
 "nbformat_minor": 4
}
