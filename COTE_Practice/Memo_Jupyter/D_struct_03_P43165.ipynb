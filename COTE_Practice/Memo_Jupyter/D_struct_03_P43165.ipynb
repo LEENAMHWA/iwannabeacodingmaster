{
 "cells": [
  {
   "cell_type": "code",
   "execution_count": 3,
   "id": "d4d9b3cc",
   "metadata": {},
   "outputs": [
    {
     "data": {
      "text/plain": [
       "5"
      ]
     },
     "execution_count": 3,
     "metadata": {},
     "output_type": "execute_result"
    }
   ],
   "source": [
    "from collections import deque\n",
    "\n",
    "# BFS\n",
    "def solution(numbers, target):\n",
    "    answer = 0\n",
    "    queue = deque()\n",
    "    queue.append([numbers[0], 0])\n",
    "    queue.append([numbers[0] * (-1), 0])\n",
    "\n",
    "    num_len = len(numbers)    \n",
    "    while queue:\n",
    "        tmp, idx = queue.popleft()\n",
    "        \n",
    "        idx += 1\n",
    "        if idx < num_len:\n",
    "            queue.append([tmp + numbers[idx], idx])\n",
    "            queue.append([tmp - numbers[idx], idx])\n",
    "        else:\n",
    "            if tmp == target:\n",
    "                answer += 1\n",
    "                \n",
    "    return answer\n",
    "\n",
    "nums = [1,1,1,1,1]\n",
    "solution(nums, 3)"
   ]
  },
  {
   "cell_type": "code",
   "execution_count": null,
   "id": "00039af5",
   "metadata": {},
   "outputs": [],
   "source": [
    "# DFS\n",
    "def solution(numbers, target):\n",
    "    answer = 0\n",
    "    \n",
    "    \n",
    "    \n",
    "    return answer\n",
    "\n",
    "nums = [1,1,1,1,1]\n",
    "solution(nums, 3)"
   ]
  }
 ],
 "metadata": {
  "kernelspec": {
   "display_name": "Python 3",
   "language": "python",
   "name": "python3"
  },
  "language_info": {
   "codemirror_mode": {
    "name": "ipython",
    "version": 3
   },
   "file_extension": ".py",
   "mimetype": "text/x-python",
   "name": "python",
   "nbconvert_exporter": "python",
   "pygments_lexer": "ipython3",
   "version": "3.8.8"
  }
 },
 "nbformat": 4,
 "nbformat_minor": 5
}
