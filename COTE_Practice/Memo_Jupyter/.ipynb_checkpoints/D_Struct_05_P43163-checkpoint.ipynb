{
 "cells": [
  {
   "cell_type": "code",
   "execution_count": 62,
   "id": "e938646a",
   "metadata": {},
   "outputs": [
    {
     "name": "stdout",
     "output_type": "stream",
     "text": [
      "deque([['hot', 1, ['hot']]])\n",
      "\n",
      "deque([['dot', 2, ['hot', 'dot', 'lot']], ['lot', 2, ['hot', 'dot', 'lot']]])\n",
      "\n",
      "deque([['lot', 2, ['hot', 'dot', 'lot', 'dog']], ['dog', 3, ['hot', 'dot', 'lot', 'dog']]])\n",
      "\n",
      "deque([['dog', 3, ['hot', 'dot', 'lot', 'dog', 'log']], ['log', 3, ['hot', 'dot', 'lot', 'dog', 'log']]])\n",
      "\n",
      "deque([['log', 3, ['hot', 'dot', 'lot', 'dog', 'log', 'cog']], ['cog', 4, ['hot', 'dot', 'lot', 'dog', 'log', 'cog']]])\n",
      "\n",
      "deque([['cog', 4, ['hot', 'dot', 'lot', 'dog', 'log', 'cog']]])\n",
      "\n",
      "5\n",
      "5\n",
      "5\n",
      "5\n",
      "5\n",
      "5\n",
      "deque([])\n",
      "\n"
     ]
    },
    {
     "data": {
      "text/plain": [
       "0"
      ]
     },
     "execution_count": 62,
     "metadata": {},
     "output_type": "execute_result"
    }
   ],
   "source": [
    "from collections import deque\n",
    "\n",
    "def how_diff(word_1, word_2):\n",
    "    n_diff = 0\n",
    "    \n",
    "    for x, y in zip(word_1, word_2):\n",
    "        if x != y:\n",
    "            n_diff += 1\n",
    "    \n",
    "    return n_diff\n",
    "\n",
    "def bfs(begin, target, words):\n",
    "    queue = deque()\n",
    "    idx = 0\n",
    "    queue.append([begin, idx, []])\n",
    "    while queue:\n",
    "        # queue 제일 앞의 단어와 1글자 차이면 모두 append\n",
    "        w_tmp, idx, visited = queue.popleft()\n",
    "        idx += 1\n",
    "        \n",
    "        for word_idx in range(len(words)):\n",
    "            # 차이가 1인것 모두 append\n",
    "            if (how_diff(words[word_idx], w_tmp) == 1) and (words[word_idx] not in visited):\n",
    "                tmp_visited = visited\n",
    "                tmp_visited.append(words[word_idx])\n",
    "                queue.append([words[word_idx], idx, tmp_visited])\n",
    "            elif w_tmp == target:\n",
    "                print(idx)\n",
    "        print(queue)\n",
    "        print()\n",
    "        \n",
    "\n",
    "def solution(begin, target, words):\n",
    "    if target not in words:\n",
    "        return 0\n",
    "    answer = 0\n",
    "\n",
    "    bfs(begin, target, words)\n",
    "\n",
    "    return answer\n",
    "\n",
    "solution(\"hit\",\"cog\",[\"hot\", \"dot\", \"dog\", \"lot\", \"log\", \"cog\"])"
   ]
  },
  {
   "cell_type": "code",
   "execution_count": null,
   "id": "2e10aa72",
   "metadata": {},
   "outputs": [],
   "source": []
  }
 ],
 "metadata": {
  "kernelspec": {
   "display_name": "Python 3",
   "language": "python",
   "name": "python3"
  },
  "language_info": {
   "codemirror_mode": {
    "name": "ipython",
    "version": 3
   },
   "file_extension": ".py",
   "mimetype": "text/x-python",
   "name": "python",
   "nbconvert_exporter": "python",
   "pygments_lexer": "ipython3",
   "version": "3.8.8"
  }
 },
 "nbformat": 4,
 "nbformat_minor": 5
}
