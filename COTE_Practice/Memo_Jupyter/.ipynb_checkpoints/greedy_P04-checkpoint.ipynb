{
 "cells": [
  {
   "cell_type": "code",
   "execution_count": 41,
   "metadata": {
    "scrolled": true
   },
   "outputs": [
    {
     "name": "stdout",
     "output_type": "stream",
     "text": [
      "0 3\n",
      "0 2\n",
      "0 1\n",
      "2 3\n",
      "2 2\n",
      "3 3\n",
      "3\n"
     ]
    }
   ],
   "source": [
    "def solution(people, limit):\n",
    "    answer = 0\n",
    "    people.sort()\n",
    "    # Sort 후에 양 끝부터 계산하며 갯수 파악\n",
    "    l_idx = 0\n",
    "    while l_idx != len(people):\n",
    "        r_idx = len(people) - 1\n",
    "        \n",
    "        while True:\n",
    "            # 가장 마지막\n",
    "            if l_idx == r_idx:\n",
    "                answer += 1\n",
    "                people[0] = - 1\n",
    "                break\n",
    "\n",
    "            # 경우에 맞음\n",
    "            elif (people[l_idx] + people[r_idx]) <= limit:\n",
    "                people[r_idx] = -1\n",
    "                people[l_idx] = -1\n",
    "                answer += 1\n",
    "                break\n",
    "\n",
    "            # 인덱스 감소\n",
    "            el\n",
    "            if l_idx == r_idx:\n",
    "                answer += 1\n",
    "                people[0] = - 1\n",
    "                break    \n",
    "            \n",
    "                r_idx -= 1\n",
    "                \n",
    "        l_idx += 1\n",
    "        \n",
    "    return answer\n",
    "\n",
    "print(solution([70, 50, 80, 50],100))\n",
    "print(solution([70, 80, 50],100))"
   ]
  },
  {
   "cell_type": "code",
   "execution_count": 44,
   "metadata": {},
   "outputs": [
    {
     "ename": "TypeError",
     "evalue": "pop() takes no arguments (1 given)",
     "output_type": "error",
     "traceback": [
      "\u001b[1;31m---------------------------------------------------------------------------\u001b[0m",
      "\u001b[1;31mTypeError\u001b[0m                                 Traceback (most recent call last)",
      "\u001b[1;32m<ipython-input-44-2cae1e1318d9>\u001b[0m in \u001b[0;36m<module>\u001b[1;34m\u001b[0m\n\u001b[0;32m     30\u001b[0m \u001b[1;33m\u001b[0m\u001b[0m\n\u001b[0;32m     31\u001b[0m     \u001b[1;32mreturn\u001b[0m \u001b[0manswer\u001b[0m\u001b[1;33m\u001b[0m\u001b[1;33m\u001b[0m\u001b[0m\n\u001b[1;32m---> 32\u001b[1;33m \u001b[0mprint\u001b[0m\u001b[1;33m(\u001b[0m\u001b[0msolution\u001b[0m\u001b[1;33m(\u001b[0m\u001b[1;33m[\u001b[0m\u001b[1;36m70\u001b[0m\u001b[1;33m,\u001b[0m \u001b[1;36m50\u001b[0m\u001b[1;33m,\u001b[0m \u001b[1;36m80\u001b[0m\u001b[1;33m,\u001b[0m \u001b[1;36m50\u001b[0m\u001b[1;33m]\u001b[0m\u001b[1;33m,\u001b[0m\u001b[1;36m100\u001b[0m\u001b[1;33m)\u001b[0m\u001b[1;33m)\u001b[0m\u001b[1;33m\u001b[0m\u001b[1;33m\u001b[0m\u001b[0m\n\u001b[0m\u001b[0;32m     33\u001b[0m \u001b[0mprint\u001b[0m\u001b[1;33m(\u001b[0m\u001b[0msolution\u001b[0m\u001b[1;33m(\u001b[0m\u001b[1;33m[\u001b[0m\u001b[1;36m70\u001b[0m\u001b[1;33m,\u001b[0m \u001b[1;36m80\u001b[0m\u001b[1;33m,\u001b[0m \u001b[1;36m50\u001b[0m\u001b[1;33m]\u001b[0m\u001b[1;33m,\u001b[0m\u001b[1;36m100\u001b[0m\u001b[1;33m)\u001b[0m\u001b[1;33m)\u001b[0m\u001b[1;33m\u001b[0m\u001b[1;33m\u001b[0m\u001b[0m\n",
      "\u001b[1;32m<ipython-input-44-2cae1e1318d9>\u001b[0m in \u001b[0;36msolution\u001b[1;34m(people, limit)\u001b[0m\n\u001b[0;32m     19\u001b[0m             \u001b[1;31m# 경우에 맞음\u001b[0m\u001b[1;33m\u001b[0m\u001b[1;33m\u001b[0m\u001b[1;33m\u001b[0m\u001b[0m\n\u001b[0;32m     20\u001b[0m             \u001b[1;32melif\u001b[0m \u001b[1;33m(\u001b[0m\u001b[0mpeople\u001b[0m\u001b[1;33m[\u001b[0m\u001b[0ml_idx\u001b[0m\u001b[1;33m]\u001b[0m \u001b[1;33m+\u001b[0m \u001b[0mpeople\u001b[0m\u001b[1;33m[\u001b[0m\u001b[0mr_idx\u001b[0m\u001b[1;33m]\u001b[0m\u001b[1;33m)\u001b[0m \u001b[1;33m<=\u001b[0m \u001b[0mlimit\u001b[0m\u001b[1;33m:\u001b[0m\u001b[1;33m\u001b[0m\u001b[1;33m\u001b[0m\u001b[0m\n\u001b[1;32m---> 21\u001b[1;33m                 \u001b[0mpeople\u001b[0m\u001b[1;33m.\u001b[0m\u001b[0mpop\u001b[0m\u001b[1;33m(\u001b[0m\u001b[0mr_idx\u001b[0m\u001b[1;33m)\u001b[0m\u001b[1;33m\u001b[0m\u001b[1;33m\u001b[0m\u001b[0m\n\u001b[0m\u001b[0;32m     22\u001b[0m                 \u001b[0mpeople\u001b[0m\u001b[1;33m.\u001b[0m\u001b[0mpopleft\u001b[0m\u001b[1;33m(\u001b[0m\u001b[1;33m)\u001b[0m\u001b[1;33m\u001b[0m\u001b[1;33m\u001b[0m\u001b[0m\n\u001b[0;32m     23\u001b[0m                 \u001b[0manswer\u001b[0m \u001b[1;33m+=\u001b[0m \u001b[1;36m1\u001b[0m\u001b[1;33m\u001b[0m\u001b[1;33m\u001b[0m\u001b[0m\n",
      "\u001b[1;31mTypeError\u001b[0m: pop() takes no arguments (1 given)"
     ]
    }
   ],
   "source": [
    "#효율 X\n",
    "def solution(people, limit):\n",
    "    answer = 0\n",
    "    people.sort()\n",
    "    # Sort 후에 양 끝부터 계산하며 갯수 파악\n",
    "    while people:\n",
    "        l_idx = 0\n",
    "        r_idx = len(people) - 1\n",
    "        \n",
    "        while True:\n",
    "            # 가장 마지막\n",
    "            if l_idx == r_idx:\n",
    "                answer += 1\n",
    "                people.pop()\n",
    "                break\n",
    "\n",
    "            # 경우에 맞음\n",
    "            elif (people[l_idx] + people[r_idx]) <= limit:\n",
    "                people.pop(r_idx)\n",
    "                people.pop()\n",
    "                answer += 1\n",
    "                break\n",
    "\n",
    "            # 인덱스 감소\n",
    "            else:\n",
    "                r_idx -= 1\n",
    "            \n",
    "        \n",
    "    return answer\n",
    "print(solution([70, 50, 80, 50],100))\n",
    "print(solution([70, 80, 50],100))"
   ]
  },
  {
   "cell_type": "code",
   "execution_count": null,
   "metadata": {},
   "outputs": [],
   "source": []
  }
 ],
 "metadata": {
  "kernelspec": {
   "display_name": "Python 3",
   "language": "python",
   "name": "python3"
  },
  "language_info": {
   "codemirror_mode": {
    "name": "ipython",
    "version": 3
   },
   "file_extension": ".py",
   "mimetype": "text/x-python",
   "name": "python",
   "nbconvert_exporter": "python",
   "pygments_lexer": "ipython3",
   "version": "3.7.9"
  }
 },
 "nbformat": 4,
 "nbformat_minor": 4
}
